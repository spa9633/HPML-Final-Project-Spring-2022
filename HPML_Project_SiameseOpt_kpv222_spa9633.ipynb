{
  "cells": [
    {
      "cell_type": "code",
      "execution_count": 91,
      "metadata": {
        "id": "g70HFhtk8WdT"
      },
      "outputs": [],
      "source": [
        "import sys\n",
        "import numpy as np\n",
        "import pandas as pd\n",
        "import pickle\n",
        "import os\n",
        "import matplotlib.pyplot as plt\n",
        "from scipy import spatial\n",
        "%matplotlib inline\n",
        "\n",
        "import time\n",
        "import cv2\n",
        "import imageio\n",
        "\n",
        "import tensorflow as tf\n",
        "from keras.models import Sequential\n",
        "from tensorflow.keras.optimizers import Adam\n",
        "from tensorflow.keras.layers import Dropout\n",
        "from keras.layers import Conv2D, ZeroPadding2D, Activation, Input, concatenate\n",
        "from keras.models import Model\n",
        "\n",
        "from tensorflow import keras \n",
        "from keras.models import Sequential\n",
        "from keras.layers import Conv2D\n",
        "from keras.layers import MaxPooling2D\n",
        "from keras.layers import Flatten\n",
        "from keras.layers import Dense, ReLU\n",
        "from keras.layers import BatchNormalization\n",
        "\n",
        "from keras.layers.pooling import MaxPooling2D\n",
        "from keras.layers.merge import Concatenate\n",
        "from keras.layers.core import Lambda, Flatten, Dense\n",
        "from keras.initializers import glorot_uniform\n",
        "\n",
        "from tensorflow.python.keras.layers import Layer, InputSpec\n",
        "from keras.regularizers import l2\n",
        "from keras import backend as K\n",
        "\n",
        "from sklearn.utils import shuffle\n",
        "\n",
        "import numpy.random as rng"
      ]
    },
    {
      "cell_type": "code",
      "source": [
        "from google.colab import drive\n",
        "drive.mount('/content/drive/')"
      ],
      "metadata": {
        "colab": {
          "base_uri": "https://localhost:8080/"
        },
        "id": "0I6YcCoW9Wht",
        "outputId": "04f4e312-13e6-418c-81ff-8a3e770d06be"
      },
      "execution_count": 92,
      "outputs": [
        {
          "output_type": "stream",
          "name": "stdout",
          "text": [
            "Drive already mounted at /content/drive/; to attempt to forcibly remount, call drive.mount(\"/content/drive/\", force_remount=True).\n"
          ]
        }
      ]
    },
    {
      "cell_type": "code",
      "source": [
        "# Check whether GPU is being or not\n",
        "from tensorflow.python.client import device_lib\n",
        "print(device_lib.list_local_devices())"
      ],
      "metadata": {
        "colab": {
          "base_uri": "https://localhost:8080/"
        },
        "id": "6sl7VO8i9dIo",
        "outputId": "d82afcb1-44b0-47df-ca09-9efa9666be83"
      },
      "execution_count": 93,
      "outputs": [
        {
          "output_type": "stream",
          "name": "stdout",
          "text": [
            "[name: \"/device:CPU:0\"\n",
            "device_type: \"CPU\"\n",
            "memory_limit: 268435456\n",
            "locality {\n",
            "}\n",
            "incarnation: 9919510853793928719\n",
            "xla_global_id: -1\n",
            ", name: \"/device:GPU:0\"\n",
            "device_type: \"GPU\"\n",
            "memory_limit: 14465892352\n",
            "locality {\n",
            "  bus_id: 1\n",
            "  links {\n",
            "  }\n",
            "}\n",
            "incarnation: 4643845183705898628\n",
            "physical_device_desc: \"device: 0, name: Tesla T4, pci bus id: 0000:00:04.0, compute capability: 7.5\"\n",
            "xla_global_id: 416903419\n",
            "]\n"
          ]
        }
      ]
    },
    {
      "cell_type": "code",
      "source": [
        "project_path = '/content/drive/My Drive/HPML_Project_Siamese_Networks_kpv222_spa9633/'\n"
      ],
      "metadata": {
        "id": "PeD0JO7O9nke"
      },
      "execution_count": 94,
      "outputs": []
    },
    {
      "cell_type": "code",
      "source": [
        "train_zip_path = project_path + 'images_background.zip'"
      ],
      "metadata": {
        "id": "VeYlMsdg9nrK"
      },
      "execution_count": 95,
      "outputs": []
    },
    {
      "cell_type": "code",
      "source": [
        "validation_zip_path = project_path + 'images_evaluation.zip'"
      ],
      "metadata": {
        "id": "Zz09thtr9nyM"
      },
      "execution_count": 96,
      "outputs": []
    },
    {
      "cell_type": "code",
      "source": [
        "from zipfile import ZipFile\n",
        "\n",
        "with ZipFile(train_zip_path, 'r') as z:\n",
        "  z.extractall()\n",
        "print(\"Training folder zip extraction completed!\")\n",
        "\n",
        "with ZipFile(validation_zip_path, 'r') as z:\n",
        "  z.extractall()\n",
        "print(\"Validation folder zip extraction completed!\")"
      ],
      "metadata": {
        "colab": {
          "base_uri": "https://localhost:8080/"
        },
        "id": "xRswm63_9n8U",
        "outputId": "a97d47e8-d93f-4ac7-f58c-e59748a30089"
      },
      "execution_count": 97,
      "outputs": [
        {
          "output_type": "stream",
          "name": "stdout",
          "text": [
            "Training folder zip extraction completed!\n",
            "Validation folder zip extraction completed!\n"
          ]
        }
      ]
    },
    {
      "cell_type": "code",
      "execution_count": 98,
      "metadata": {
        "colab": {
          "base_uri": "https://localhost:8080/"
        },
        "id": "uWRClJGb8WdU",
        "outputId": "c6ef0f60-1239-44e1-f21e-3a55d59c00e0"
      },
      "outputs": [
        {
          "output_type": "stream",
          "name": "stdout",
          "text": [
            "/content/images_background/\n",
            "/content/images_evaluation/\n",
            "/content/\n"
          ]
        }
      ],
      "source": [
        "train_folder = \"/content/images_background/\"\n",
        "val_folder = '/content/images_evaluation/'\n",
        "save_path = '/content/'\n",
        "print(train_folder)\n",
        "print(val_folder)\n",
        "print(save_path)"
      ]
    },
    {
      "cell_type": "code",
      "execution_count": 99,
      "metadata": {
        "id": "d1Virxcl8WdU"
      },
      "outputs": [],
      "source": [
        "def loadimgs(path,n = 0):\n",
        "    '''\n",
        "    path => Path of train directory or test directory\n",
        "    '''\n",
        "    X=[]\n",
        "    y = []\n",
        "    cat_dict = {}\n",
        "    lang_dict = {}\n",
        "    curr_y = n\n",
        "    # we load every alphabet seperately so we can isolate them later\n",
        "    for alphabet in os.listdir(path):\n",
        "        print(\"loading alphabet: \" + alphabet)\n",
        "        lang_dict[alphabet] = [curr_y,None]\n",
        "        alphabet_path = os.path.join(path,alphabet)\n",
        "        # every letter/category has it's own column in the array, so  load seperately\n",
        "        for letter in os.listdir(alphabet_path):\n",
        "            cat_dict[curr_y] = (alphabet, letter)\n",
        "            category_images=[]\n",
        "            letter_path = os.path.join(alphabet_path, letter)\n",
        "            # read all the images in the current category\n",
        "            for filename in os.listdir(letter_path):\n",
        "                image_path = os.path.join(letter_path, filename)\n",
        "                image = imageio.imread(image_path)\n",
        "                category_images.append(image)\n",
        "                y.append(curr_y)\n",
        "            try:\n",
        "                X.append(np.stack(category_images))\n",
        "            # edge case  - last one\n",
        "            except ValueError as e:\n",
        "                print(e)\n",
        "                print(\"error - category_images:\", category_images)\n",
        "            curr_y += 1\n",
        "            lang_dict[alphabet][1] = curr_y - 1\n",
        "    y = np.vstack(y)\n",
        "    X = np.stack(X)\n",
        "    return X,y,lang_dict"
      ]
    },
    {
      "cell_type": "markdown",
      "metadata": {
        "id": "sYwUDR6K8WdV"
      },
      "source": [
        "### Loading the train images into tensors"
      ]
    },
    {
      "cell_type": "code",
      "execution_count": 100,
      "metadata": {
        "scrolled": true,
        "colab": {
          "base_uri": "https://localhost:8080/"
        },
        "id": "VphI3e7c8WdW",
        "outputId": "c23625f4-6df2-4644-9b5c-d7957c01c758"
      },
      "outputs": [
        {
          "output_type": "stream",
          "name": "stdout",
          "text": [
            "loading alphabet: Alphabet_of_the_Magi\n",
            "loading alphabet: Bengali\n",
            "loading alphabet: Arcadian\n",
            "loading alphabet: Japanese_(katakana)\n",
            "loading alphabet: N_Ko\n",
            "loading alphabet: Tagalog\n",
            "loading alphabet: Sanskrit\n",
            "loading alphabet: Armenian\n",
            "loading alphabet: Burmese_(Myanmar)\n",
            "loading alphabet: Early_Aramaic\n",
            "loading alphabet: Asomtavruli_(Georgian)\n",
            "loading alphabet: Anglo-Saxon_Futhorc\n",
            "loading alphabet: Hebrew\n",
            "loading alphabet: Ojibwe_(Canadian_Aboriginal_Syllabics)\n",
            "loading alphabet: Cyrillic\n",
            "loading alphabet: Korean\n",
            "loading alphabet: Braille\n",
            "loading alphabet: Japanese_(hiragana)\n",
            "loading alphabet: Gujarati\n",
            "loading alphabet: Balinese\n",
            "loading alphabet: Latin\n",
            "loading alphabet: Mkhedruli_(Georgian)\n",
            "loading alphabet: Futurama\n",
            "loading alphabet: Inuktitut_(Canadian_Aboriginal_Syllabics)\n",
            "loading alphabet: Grantha\n",
            "loading alphabet: Malay_(Jawi_-_Arabic)\n",
            "loading alphabet: Syriac_(Estrangelo)\n",
            "loading alphabet: Tifinagh\n",
            "loading alphabet: Blackfoot_(Canadian_Aboriginal_Syllabics)\n",
            "loading alphabet: Greek\n"
          ]
        }
      ],
      "source": [
        "X,y,c=loadimgs(train_folder)"
      ]
    },
    {
      "cell_type": "markdown",
      "metadata": {
        "id": "XTs6aGdO8WdX"
      },
      "source": [
        "### Saving the train tensors on disk"
      ]
    },
    {
      "cell_type": "code",
      "execution_count": 101,
      "metadata": {
        "id": "3konL7fG8WdX"
      },
      "outputs": [],
      "source": [
        "with open(os.path.join(save_path,\"train.pickle\"), \"wb\") as f:\n",
        "    pickle.dump((X,c),f)"
      ]
    },
    {
      "cell_type": "markdown",
      "metadata": {
        "id": "f4g3DjCs8WdY"
      },
      "source": [
        "### Loading the validation images into tensors"
      ]
    },
    {
      "cell_type": "code",
      "execution_count": 102,
      "metadata": {
        "colab": {
          "base_uri": "https://localhost:8080/"
        },
        "id": "LyTvm8hr8WdY",
        "outputId": "e0529287-709c-476c-ee9f-c468bd7f8f78"
      },
      "outputs": [
        {
          "output_type": "stream",
          "name": "stdout",
          "text": [
            "loading alphabet: Kannada\n",
            "loading alphabet: Aurek-Besh\n",
            "loading alphabet: Oriya\n",
            "loading alphabet: Mongolian\n",
            "loading alphabet: Gurmukhi\n",
            "loading alphabet: Manipuri\n",
            "loading alphabet: Keble\n",
            "loading alphabet: Sylheti\n",
            "loading alphabet: Tibetan\n",
            "loading alphabet: Atlantean\n",
            "loading alphabet: Old_Church_Slavonic_(Cyrillic)\n",
            "loading alphabet: Syriac_(Serto)\n",
            "loading alphabet: Tengwar\n",
            "loading alphabet: Malayalam\n",
            "loading alphabet: Angelic\n",
            "loading alphabet: Atemayar_Qelisayer\n",
            "loading alphabet: ULOG\n",
            "loading alphabet: Ge_ez\n",
            "loading alphabet: Avesta\n",
            "loading alphabet: Glagolitic\n"
          ]
        }
      ],
      "source": [
        "Xval,yval,cval=loadimgs(val_folder)"
      ]
    },
    {
      "cell_type": "markdown",
      "metadata": {
        "id": "Sv-5E-zd8WdZ"
      },
      "source": [
        "### Saving the validation tensors on disk"
      ]
    },
    {
      "cell_type": "code",
      "execution_count": 103,
      "metadata": {
        "id": "EqF3ncvJ8WdZ"
      },
      "outputs": [],
      "source": [
        "with open(os.path.join(save_path,\"val.pickle\"), \"wb\") as f:\n",
        "    pickle.dump((Xval,cval),f)"
      ]
    },
    {
      "cell_type": "code",
      "execution_count": 104,
      "metadata": {
        "id": "xBcV8zSn8Wda"
      },
      "outputs": [],
      "source": [
        "# del X, y ,c ,Xval, yval, cval"
      ]
    },
    {
      "cell_type": "code",
      "execution_count": 105,
      "metadata": {
        "id": "ntmXp-k78Wda"
      },
      "outputs": [],
      "source": [
        "def initialize_weights(shape, name=None):\n",
        "    \"\"\"\n",
        "        The paper, http://www.cs.utoronto.ca/~gkoch/files/msc-thesis.pdf\n",
        "        suggests to initialize CNN layer weights with mean as 0.0 and standard deviation of 0.01\n",
        "    \"\"\"\n",
        "    return np.random.normal(loc = 0.0, scale = 1e-2, size = shape)"
      ]
    },
    {
      "cell_type": "code",
      "execution_count": 106,
      "metadata": {
        "id": "fCb5ymrt8Wda"
      },
      "outputs": [],
      "source": [
        "def initialize_bias(shape, name=None):\n",
        "    \"\"\"\n",
        "        The paper, http://www.cs.utoronto.ca/~gkoch/files/msc-thesis.pdf\n",
        "        suggests to initialize CNN layer bias with mean as 0.5 and standard deviation of 0.01\n",
        "    \"\"\"\n",
        "    return np.random.normal(loc = 0.5, scale = 1e-2, size = shape)"
      ]
    },
    {
      "cell_type": "code",
      "execution_count": 107,
      "metadata": {
        "id": "aZBPM-k18Wda"
      },
      "outputs": [],
      "source": [
        "from tensorflow.keras import backend as K\n",
        "\n",
        "K.set_image_data_format('channels_last')\n",
        "\n",
        "def get_siamese_model(input_shape):\n",
        "    \"\"\"\n",
        "        Model architecture based on the one provided in: http://www.cs.utoronto.ca/~gkoch/files/msc-thesis.pdf\n",
        "    \"\"\"\n",
        "    left_input = Input(input_shape)\n",
        "    right_input = Input(input_shape)\n",
        "    model = Sequential()\n",
        "    model.add(Conv2D(64, (10,10), activation='relu', input_shape=input_shape))\n",
        "    model.add(MaxPooling2D())\n",
        "    model.add(Conv2D(128, (7,7), activation='relu'))\n",
        "    model.add(MaxPooling2D())\n",
        "    model.add(Conv2D(128, (4,4), activation='relu'))\n",
        "    model.add(MaxPooling2D())\n",
        "    model.add(Conv2D(256, (4,4), activation='relu'))\n",
        "    model.add(Flatten())\n",
        "    model.add(Dense(4096, activation='sigmoid'))\n",
        "    encoded_l = model(left_input)\n",
        "    encoded_r = model(right_input)\n",
        "    L1_layer = Lambda(lambda tensors:K.abs(tensors[0] - tensors[1]))\n",
        "    L1_distance = L1_layer([encoded_l, encoded_r])\n",
        "    prediction = Dense(1,activation='sigmoid')(L1_distance)\n",
        "    siamese_net = Model(inputs=[left_input,right_input],outputs=prediction)\n",
        "\n",
        "    return siamese_net"
      ]
    },
    {
      "cell_type": "code",
      "execution_count": 108,
      "metadata": {
        "colab": {
          "base_uri": "https://localhost:8080/"
        },
        "id": "V_xFgAPn8Wdb",
        "outputId": "220e6192-093d-4370-bcbf-c06913ec9901"
      },
      "outputs": [
        {
          "output_type": "stream",
          "name": "stdout",
          "text": [
            "Model: \"model_3\"\n",
            "__________________________________________________________________________________________________\n",
            " Layer (type)                   Output Shape         Param #     Connected to                     \n",
            "==================================================================================================\n",
            " input_7 (InputLayer)           [(None, 105, 105, 1  0           []                               \n",
            "                                )]                                                                \n",
            "                                                                                                  \n",
            " input_8 (InputLayer)           [(None, 105, 105, 1  0           []                               \n",
            "                                )]                                                                \n",
            "                                                                                                  \n",
            " sequential_3 (Sequential)      (None, 4096)         38947648    ['input_7[0][0]',                \n",
            "                                                                  'input_8[0][0]']                \n",
            "                                                                                                  \n",
            " lambda_3 (Lambda)              (None, 4096)         0           ['sequential_3[0][0]',           \n",
            "                                                                  'sequential_3[1][0]']           \n",
            "                                                                                                  \n",
            " dense_7 (Dense)                (None, 1)            4097        ['lambda_3[0][0]']               \n",
            "                                                                                                  \n",
            "==================================================================================================\n",
            "Total params: 38,951,745\n",
            "Trainable params: 38,951,745\n",
            "Non-trainable params: 0\n",
            "__________________________________________________________________________________________________\n"
          ]
        }
      ],
      "source": [
        "model = get_siamese_model((105, 105, 1))\n",
        "model.summary()"
      ]
    },
    {
      "cell_type": "code",
      "execution_count": 109,
      "metadata": {
        "colab": {
          "base_uri": "https://localhost:8080/"
        },
        "id": "hfWfmvfn8Wdc",
        "outputId": "28f7dc56-a4b6-4b46-838e-a1f580dea511"
      },
      "outputs": [
        {
          "output_type": "stream",
          "name": "stderr",
          "text": [
            "/usr/local/lib/python3.7/dist-packages/keras/optimizer_v2/adam.py:105: UserWarning: The `lr` argument is deprecated, use `learning_rate` instead.\n",
            "  super(Adam, self).__init__(name, **kwargs)\n"
          ]
        }
      ],
      "source": [
        "optimizer = Adam(lr = 0.00006)\n",
        "model.compile(loss=\"binary_crossentropy\",optimizer=optimizer)"
      ]
    },
    {
      "cell_type": "markdown",
      "metadata": {
        "id": "1a4qSSjq8Wdc"
      },
      "source": [
        "### Loading the train tensors"
      ]
    },
    {
      "cell_type": "code",
      "execution_count": 110,
      "metadata": {
        "colab": {
          "base_uri": "https://localhost:8080/"
        },
        "id": "TNvcnyqj8Wdc",
        "outputId": "d950ede9-5410-4e21-e7c6-546a2d21a6df"
      },
      "outputs": [
        {
          "output_type": "stream",
          "name": "stdout",
          "text": [
            "Training alphabets: \n",
            "\n",
            "['Alphabet_of_the_Magi', 'Bengali', 'Arcadian', 'Japanese_(katakana)', 'N_Ko', 'Tagalog', 'Sanskrit', 'Armenian', 'Burmese_(Myanmar)', 'Early_Aramaic', 'Asomtavruli_(Georgian)', 'Anglo-Saxon_Futhorc', 'Hebrew', 'Ojibwe_(Canadian_Aboriginal_Syllabics)', 'Cyrillic', 'Korean', 'Braille', 'Japanese_(hiragana)', 'Gujarati', 'Balinese', 'Latin', 'Mkhedruli_(Georgian)', 'Futurama', 'Inuktitut_(Canadian_Aboriginal_Syllabics)', 'Grantha', 'Malay_(Jawi_-_Arabic)', 'Syriac_(Estrangelo)', 'Tifinagh', 'Blackfoot_(Canadian_Aboriginal_Syllabics)', 'Greek']\n"
          ]
        }
      ],
      "source": [
        "with open(os.path.join(save_path, \"train.pickle\"), \"rb\") as f:\n",
        "    (Xtrain, train_classes) = pickle.load(f)\n",
        "    \n",
        "print(\"Training alphabets: \\n\")\n",
        "print(list(train_classes.keys()))"
      ]
    },
    {
      "cell_type": "code",
      "execution_count": 111,
      "metadata": {
        "colab": {
          "base_uri": "https://localhost:8080/"
        },
        "id": "lvHzkRru8Wdc",
        "outputId": "ee4c21f8-a38b-4de3-bd94-cba64d7b5e39"
      },
      "outputs": [
        {
          "output_type": "stream",
          "name": "stdout",
          "text": [
            "Validation alphabets:\n",
            "\n",
            "['Kannada', 'Aurek-Besh', 'Oriya', 'Mongolian', 'Gurmukhi', 'Manipuri', 'Keble', 'Sylheti', 'Tibetan', 'Atlantean', 'Old_Church_Slavonic_(Cyrillic)', 'Syriac_(Serto)', 'Tengwar', 'Malayalam', 'Angelic', 'Atemayar_Qelisayer', 'ULOG', 'Ge_ez', 'Avesta', 'Glagolitic']\n"
          ]
        }
      ],
      "source": [
        "with open(os.path.join(save_path, \"val.pickle\"), \"rb\") as f:\n",
        "    (Xval, val_classes) = pickle.load(f)\n",
        "\n",
        "print(\"Validation alphabets:\", end=\"\\n\\n\")\n",
        "print(list(val_classes.keys()))"
      ]
    },
    {
      "cell_type": "code",
      "execution_count": 112,
      "metadata": {
        "id": "xAmO-vfv8Wdd"
      },
      "outputs": [],
      "source": [
        "def get_batch(batch_size,s=\"train\"):\n",
        "    \"\"\"Create batch of n pairs, half same class, half different class\"\"\"\n",
        "    if s == 'train':\n",
        "        X = Xtrain\n",
        "        categories = train_classes\n",
        "    else:\n",
        "        X = Xval\n",
        "        categories = val_classes\n",
        "    n_classes, n_examples, w, h = X.shape\n",
        "\n",
        "    # randomly sample several classes to use in the batch\n",
        "    categories = rng.choice(n_classes,size=(batch_size,),replace=False)\n",
        "    \n",
        "    # initialize 2 empty arrays for the input image batch\n",
        "    pairs=[np.zeros((batch_size, h, w,1)) for i in range(2)]\n",
        "    \n",
        "    # initialize vector for the targets\n",
        "    targets=np.zeros((batch_size,))\n",
        "    \n",
        "    # make one half of it '1's, so 2nd half of batch has same class\n",
        "    targets[batch_size//2:] = 1\n",
        "    for i in range(batch_size):\n",
        "        category = categories[i]\n",
        "        idx_1 = rng.randint(0, n_examples)\n",
        "        pairs[0][i,:,:,:] = X[category, idx_1].reshape(w, h, 1)\n",
        "        idx_2 = rng.randint(0, n_examples)\n",
        "        \n",
        "        # pick images of same class for 1st half, different for 2nd\n",
        "        if i >= batch_size // 2:\n",
        "            category_2 = category  \n",
        "        else: \n",
        "            # add a random number to the category modulo n classes to ensure 2nd image has a different category\n",
        "            category_2 = (category + rng.randint(1,n_classes)) % n_classes\n",
        "        \n",
        "        pairs[1][i,:,:,:] = X[category_2,idx_2].reshape(w, h,1)\n",
        "    \n",
        "    return pairs, targets"
      ]
    },
    {
      "cell_type": "code",
      "execution_count": 113,
      "metadata": {
        "id": "efvnKhC38Wdd"
      },
      "outputs": [],
      "source": [
        "def generate(batch_size, s=\"train\"):\n",
        "    \"\"\"a generator for batches, so model.fit_generator can be used. \"\"\"\n",
        "    while True:\n",
        "        pairs, targets = get_batch(batch_size,s)\n",
        "        yield (pairs, targets)"
      ]
    },
    {
      "cell_type": "code",
      "execution_count": 114,
      "metadata": {
        "id": "DtlQIozK8Wdd"
      },
      "outputs": [],
      "source": [
        "def make_oneshot_task(N, s=\"val\", language=None):\n",
        "    \"\"\"Create pairs of test image, support set for testing N way one-shot learning. \"\"\"\n",
        "    if s == 'train':\n",
        "        X = Xtrain\n",
        "        categories = train_classes\n",
        "    else:\n",
        "        X = Xval\n",
        "        categories = val_classes\n",
        "    n_classes, n_examples, w, h = X.shape\n",
        "    \n",
        "    indices = rng.randint(0, n_examples,size=(N,))\n",
        "    if language is not None: # if language is specified, select characters for that language\n",
        "        low, high = categories[language]\n",
        "        if N > high - low:\n",
        "            raise ValueError(\"This language ({}) has less than {} letters\".format(language, N))\n",
        "        categories = rng.choice(range(low,high),size=(N,),replace=False)\n",
        "\n",
        "    else: # if no language specified just pick a bunch of random letters\n",
        "        categories = rng.choice(range(n_classes),size=(N,),replace=False)            \n",
        "    true_category = categories[0]\n",
        "    ex1, ex2 = rng.choice(n_examples,replace=False,size=(2,))\n",
        "    test_image = np.asarray([X[true_category,ex1,:,:]]*N).reshape(N, w, h,1)\n",
        "    support_set = X[categories,indices,:,:]\n",
        "    support_set[0,:,:] = X[true_category,ex2]\n",
        "    support_set = support_set.reshape(N, w, h,1)\n",
        "    targets = np.zeros((N,))\n",
        "    targets[0] = 1\n",
        "    targets, test_image, support_set = shuffle(targets, test_image, support_set)\n",
        "    pairs = [test_image,support_set]\n",
        "\n",
        "    return pairs, targets"
      ]
    },
    {
      "cell_type": "code",
      "execution_count": 115,
      "metadata": {
        "id": "bjj8IJW68Wdd"
      },
      "outputs": [],
      "source": [
        "def test_oneshot(model, N, k, s = \"val\", verbose = 0):\n",
        "    \"\"\"Test average N way oneshot learning accuracy of a siamese neural net over k one-shot tasks\"\"\"\n",
        "    n_correct = 0\n",
        "    if verbose:\n",
        "        print(\"Evaluating model on {} random {} way one-shot learning tasks ... \\n\".format(k,N))\n",
        "    for i in range(k):\n",
        "        inputs, targets = make_oneshot_task(N,s)\n",
        "        probs = model.predict(inputs)\n",
        "        if np.argmax(probs) == np.argmax(targets):\n",
        "            n_correct+=1\n",
        "    percent_correct = (100.0 * n_correct / k)\n",
        "    if verbose:\n",
        "        print(\"Got an average of {}% {} way one-shot learning accuracy \\n\".format(percent_correct,N))\n",
        "    return percent_correct"
      ]
    },
    {
      "cell_type": "code",
      "execution_count": 115,
      "metadata": {
        "id": "goJ4TxMm8Wde"
      },
      "outputs": [],
      "source": [
        ""
      ]
    },
    {
      "cell_type": "code",
      "execution_count": 116,
      "metadata": {
        "id": "FKEv47mP8Wde"
      },
      "outputs": [],
      "source": [
        "# Hyper parameters\n",
        "evaluate_every = 200 # interval for evaluating on one-shot tasks\n",
        "batch_size = 128\n",
        "n_iter = 10000 # No. of training iterations\n",
        "N_way = 20 # how many classes for testing one-shot tasks\n",
        "n_val = 250 # how many one-shot tasks to validate on\n",
        "best = -1"
      ]
    },
    {
      "cell_type": "code",
      "execution_count": 117,
      "metadata": {
        "id": "I7Rnkpjq8Wde"
      },
      "outputs": [],
      "source": [
        "model_path = '/content/weights/'"
      ]
    },
    {
      "cell_type": "code",
      "execution_count": 118,
      "metadata": {
        "colab": {
          "base_uri": "https://localhost:8080/"
        },
        "id": "xJs6tQ9s8Wde",
        "outputId": "904ece48-9303-48db-deff-9efdb05f29bb"
      },
      "outputs": [
        {
          "output_type": "stream",
          "name": "stdout",
          "text": [
            "Starting training process!\n",
            "-------------------------------------\n",
            "\n",
            " ------------- \n",
            "\n",
            "Time for 200 iterations: 0.9120422800381979 mins\n",
            "Train Loss: 0.6308315992355347\n",
            "Evaluating model on 250 random 20 way one-shot learning tasks ... \n",
            "\n",
            "Got an average of 9.2% 20 way one-shot learning accuracy \n",
            "\n",
            "Current best: 9.2, previous best: -1\n",
            "\n",
            " ------------- \n",
            "\n",
            "Time for 400 iterations: 2.0945079286893207 mins\n",
            "Train Loss: 0.5026702880859375\n",
            "Evaluating model on 250 random 20 way one-shot learning tasks ... \n",
            "\n",
            "Got an average of 24.0% 20 way one-shot learning accuracy \n",
            "\n",
            "Current best: 24.0, previous best: 9.2\n",
            "\n",
            " ------------- \n",
            "\n",
            "Time for 600 iterations: 3.28566255569458 mins\n",
            "Train Loss: 0.42020750045776367\n",
            "Evaluating model on 250 random 20 way one-shot learning tasks ... \n",
            "\n",
            "Got an average of 37.6% 20 way one-shot learning accuracy \n",
            "\n",
            "Current best: 37.6, previous best: 24.0\n",
            "\n",
            " ------------- \n",
            "\n",
            "Time for 800 iterations: 4.468607199192047 mins\n",
            "Train Loss: 0.3218667209148407\n",
            "Evaluating model on 250 random 20 way one-shot learning tasks ... \n",
            "\n",
            "Got an average of 35.2% 20 way one-shot learning accuracy \n",
            "\n",
            "\n",
            " ------------- \n",
            "\n",
            "Time for 1000 iterations: 5.6532385150591535 mins\n",
            "Train Loss: 0.23826076090335846\n",
            "Evaluating model on 250 random 20 way one-shot learning tasks ... \n",
            "\n",
            "Got an average of 52.0% 20 way one-shot learning accuracy \n",
            "\n",
            "Current best: 52.0, previous best: 37.6\n",
            "\n",
            " ------------- \n",
            "\n",
            "Time for 1200 iterations: 6.8445033947626746 mins\n",
            "Train Loss: 0.20878450572490692\n",
            "Evaluating model on 250 random 20 way one-shot learning tasks ... \n",
            "\n",
            "Got an average of 63.2% 20 way one-shot learning accuracy \n",
            "\n",
            "Current best: 63.2, previous best: 52.0\n",
            "\n",
            " ------------- \n",
            "\n",
            "Time for 1400 iterations: 8.03008572657903 mins\n",
            "Train Loss: 0.19841152429580688\n",
            "Evaluating model on 250 random 20 way one-shot learning tasks ... \n",
            "\n",
            "Got an average of 62.8% 20 way one-shot learning accuracy \n",
            "\n",
            "\n",
            " ------------- \n",
            "\n",
            "Time for 1600 iterations: 9.21201157172521 mins\n",
            "Train Loss: 0.17345844209194183\n",
            "Evaluating model on 250 random 20 way one-shot learning tasks ... \n",
            "\n",
            "Got an average of 69.6% 20 way one-shot learning accuracy \n",
            "\n",
            "Current best: 69.6, previous best: 63.2\n",
            "\n",
            " ------------- \n",
            "\n",
            "Time for 1800 iterations: 10.401019831498465 mins\n",
            "Train Loss: 0.17772716283798218\n",
            "Evaluating model on 250 random 20 way one-shot learning tasks ... \n",
            "\n",
            "Got an average of 69.6% 20 way one-shot learning accuracy \n",
            "\n",
            "Current best: 69.6, previous best: 69.6\n",
            "\n",
            " ------------- \n",
            "\n",
            "Time for 2000 iterations: 11.588086664676666 mins\n",
            "Train Loss: 0.1376974880695343\n",
            "Evaluating model on 250 random 20 way one-shot learning tasks ... \n",
            "\n",
            "Got an average of 69.2% 20 way one-shot learning accuracy \n",
            "\n",
            "\n",
            " ------------- \n",
            "\n",
            "Time for 2200 iterations: 12.76888603369395 mins\n",
            "Train Loss: 0.1566232591867447\n",
            "Evaluating model on 250 random 20 way one-shot learning tasks ... \n",
            "\n",
            "Got an average of 68.0% 20 way one-shot learning accuracy \n",
            "\n",
            "\n",
            " ------------- \n",
            "\n",
            "Time for 2400 iterations: 13.95796195268631 mins\n",
            "Train Loss: 0.08316361904144287\n",
            "Evaluating model on 250 random 20 way one-shot learning tasks ... \n",
            "\n",
            "Got an average of 76.0% 20 way one-shot learning accuracy \n",
            "\n",
            "Current best: 76.0, previous best: 69.6\n",
            "\n",
            " ------------- \n",
            "\n",
            "Time for 2600 iterations: 15.137265400091808 mins\n",
            "Train Loss: 0.16804517805576324\n",
            "Evaluating model on 250 random 20 way one-shot learning tasks ... \n",
            "\n",
            "Got an average of 74.4% 20 way one-shot learning accuracy \n",
            "\n",
            "\n",
            " ------------- \n",
            "\n",
            "Time for 2800 iterations: 16.312032330036164 mins\n",
            "Train Loss: 0.062071293592453\n",
            "Evaluating model on 250 random 20 way one-shot learning tasks ... \n",
            "\n",
            "Got an average of 75.6% 20 way one-shot learning accuracy \n",
            "\n",
            "\n",
            " ------------- \n",
            "\n",
            "Time for 3000 iterations: 17.490878383318584 mins\n",
            "Train Loss: 0.11852127313613892\n",
            "Evaluating model on 250 random 20 way one-shot learning tasks ... \n",
            "\n",
            "Got an average of 80.8% 20 way one-shot learning accuracy \n",
            "\n",
            "Current best: 80.8, previous best: 76.0\n",
            "Time to 80% accuracy  is: 1066.5328178405762\n"
          ]
        }
      ],
      "source": [
        "print(\"Starting training process!\")\n",
        "print(\"-------------------------------------\")\n",
        "t_start = time.time()\n",
        "weights_file = 0\n",
        "for i in range(1, n_iter+1):\n",
        "    (inputs,targets) = get_batch(batch_size)\n",
        "    loss = model.train_on_batch(inputs, targets)\n",
        "    if i % evaluate_every == 0:\n",
        "        print(\"\\n ------------- \\n\")\n",
        "        print(\"Time for {0} iterations: {1} mins\".format(i, (time.time()-t_start)/60.0))\n",
        "        print(\"Train Loss: {0}\".format(loss)) \n",
        "        val_acc = test_oneshot(model, N_way, n_val, verbose=True)\n",
        "        model.save_weights(os.path.join(model_path, 'weights.{}.h5'.format(i)))\n",
        "        weights_file = i\n",
        "        if val_acc >= best:\n",
        "            print(\"Current best: {0}, previous best: {1}\".format(val_acc, best))\n",
        "            best = val_acc\n",
        "            if val_acc >= 80.0:\n",
        "              t_end = time.time()\n",
        "              training_time = t_end - t_start\n",
        "              print(\"Time to 80% accuracy  is: {0}\".format(training_time))\n",
        "              break"
      ]
    },
    {
      "cell_type": "markdown",
      "metadata": {
        "id": "qmd_A2YX8Wdf"
      },
      "source": [
        "### Load model weights"
      ]
    },
    {
      "cell_type": "code",
      "execution_count": 119,
      "metadata": {
        "id": "TH35FgvJ8Wdf"
      },
      "outputs": [],
      "source": [
        "weights_file_str = \"weights.\" + str(weights_file) + \".h5\"\n",
        "model.load_weights(os.path.join(model_path, str(weights_file_str)))"
      ]
    },
    {
      "cell_type": "markdown",
      "metadata": {
        "id": "Rfh2s7rO8Wdf"
      },
      "source": [
        "### Testing"
      ]
    },
    {
      "cell_type": "markdown",
      "metadata": {
        "id": "vfC1nXn18Wdf"
      },
      "source": [
        "### Baseline model based on Nearest Neighbors using Euclidean distance (L2 distance)"
      ]
    },
    {
      "cell_type": "code",
      "execution_count": 120,
      "metadata": {
        "id": "8URyPevk8Wdf"
      },
      "outputs": [],
      "source": [
        "def nearest_neighbour_correct_L2(pairs,targets):\n",
        "    \"\"\"returns 1 if nearest neighbour gets the correct answer for a one-shot task\n",
        "        given by (pairs, targets)\"\"\"\n",
        "    L2_distances = np.zeros_like(targets)\n",
        "    \n",
        "    for i in range(len(targets)):\n",
        "      L2_distances[i] = np.sum(np.sqrt(pairs[0][i]**2 - pairs[1][i]**2))\n",
        "        \n",
        "      if np.argmin(L2_distances) == np.argmax(targets):\n",
        "        return 1\n",
        "\n",
        "    return 0"
      ]
    },
    {
      "cell_type": "code",
      "source": [
        "def nearest_neighbour_correct_L1(pairs,targets):\n",
        "    \"\"\"returns 1 if nearest neighbour gets the correct answer for a one-shot task\n",
        "        given by (pairs, targets)\"\"\"\n",
        "    L1_distances = np.zeros_like(targets)\n",
        "    \n",
        "    for i in range(len(targets)):\n",
        "      L1_distances[i] = np.sum(np.absolute(pairs[0][i] - pairs[1][i]))\n",
        "\n",
        "      if np.argmin(L1_distances) == np.argmax(targets):\n",
        "        return 1\n",
        "\n",
        "    return 0"
      ],
      "metadata": {
        "id": "-RUgLaooMjmi"
      },
      "execution_count": 121,
      "outputs": []
    },
    {
      "cell_type": "code",
      "execution_count": 137,
      "metadata": {
        "id": "eM8Owe8w8Wdg"
      },
      "outputs": [],
      "source": [
        "def test_nn_accuracy(N_ways,n_trials):\n",
        "    \"\"\"Returns accuracy of NN approach \"\"\"\n",
        "    print(\"Evaluating nearest neighbour on {} unique {} way one-shot learning tasks ...\".format(n_trials,N_ways))\n",
        "\n",
        "    n_right = 0\n",
        "    \n",
        "    for i in range(n_trials):\n",
        "        pairs,targets = make_oneshot_task(N_ways,\"val\")\n",
        "        #correct = nearest_neighbour_correct_L2(pairs,targets)\n",
        "        correct = nearest_neighbour_correct_L1(pairs,targets)\n",
        "        n_right += correct\n",
        "    return 100.0 * n_right / n_trials"
      ]
    },
    {
      "cell_type": "code",
      "execution_count": 138,
      "metadata": {
        "id": "mOS_mmUZ8Wdg"
      },
      "outputs": [],
      "source": [
        "ways = np.arange(1,20,2)\n",
        "resume =  False\n",
        "trials = 50"
      ]
    },
    {
      "cell_type": "code",
      "execution_count": 139,
      "metadata": {
        "id": "nZOsF6dY8Wdg",
        "colab": {
          "base_uri": "https://localhost:8080/"
        },
        "outputId": "80e13950-98e4-4270-8967-f79865d3ca70"
      },
      "outputs": [
        {
          "output_type": "stream",
          "name": "stdout",
          "text": [
            "Evaluating model on 50 random 1 way one-shot learning tasks ... \n",
            "\n",
            "Got an average of 100.0% 1 way one-shot learning accuracy \n",
            "\n",
            "Evaluating model on 50 random 1 way one-shot learning tasks ... \n",
            "\n",
            "Got an average of 100.0% 1 way one-shot learning accuracy \n",
            "\n",
            "Evaluating nearest neighbour on 50 unique 1 way one-shot learning tasks ...\n",
            "NN Accuracy =  100.0\n",
            "---------------------------------------------------------------------------------------------------------------\n",
            "Evaluating model on 50 random 3 way one-shot learning tasks ... \n",
            "\n",
            "Got an average of 96.0% 3 way one-shot learning accuracy \n",
            "\n",
            "Evaluating model on 50 random 3 way one-shot learning tasks ... \n",
            "\n",
            "Got an average of 100.0% 3 way one-shot learning accuracy \n",
            "\n",
            "Evaluating nearest neighbour on 50 unique 3 way one-shot learning tasks ...\n",
            "NN Accuracy =  68.0\n",
            "---------------------------------------------------------------------------------------------------------------\n",
            "Evaluating model on 50 random 5 way one-shot learning tasks ... \n",
            "\n",
            "Got an average of 94.0% 5 way one-shot learning accuracy \n",
            "\n",
            "Evaluating model on 50 random 5 way one-shot learning tasks ... \n",
            "\n",
            "Got an average of 94.0% 5 way one-shot learning accuracy \n",
            "\n",
            "Evaluating nearest neighbour on 50 unique 5 way one-shot learning tasks ...\n",
            "NN Accuracy =  94.0\n",
            "---------------------------------------------------------------------------------------------------------------\n",
            "Evaluating model on 50 random 7 way one-shot learning tasks ... \n",
            "\n",
            "Got an average of 92.0% 7 way one-shot learning accuracy \n",
            "\n",
            "Evaluating model on 50 random 7 way one-shot learning tasks ... \n",
            "\n",
            "Got an average of 98.0% 7 way one-shot learning accuracy \n",
            "\n",
            "Evaluating nearest neighbour on 50 unique 7 way one-shot learning tasks ...\n",
            "NN Accuracy =  90.0\n",
            "---------------------------------------------------------------------------------------------------------------\n",
            "Evaluating model on 50 random 9 way one-shot learning tasks ... \n",
            "\n",
            "Got an average of 86.0% 9 way one-shot learning accuracy \n",
            "\n",
            "Evaluating model on 50 random 9 way one-shot learning tasks ... \n",
            "\n",
            "Got an average of 98.0% 9 way one-shot learning accuracy \n",
            "\n",
            "Evaluating nearest neighbour on 50 unique 9 way one-shot learning tasks ...\n",
            "NN Accuracy =  94.0\n",
            "---------------------------------------------------------------------------------------------------------------\n",
            "Evaluating model on 50 random 11 way one-shot learning tasks ... \n",
            "\n",
            "Got an average of 76.0% 11 way one-shot learning accuracy \n",
            "\n",
            "Evaluating model on 50 random 11 way one-shot learning tasks ... \n",
            "\n",
            "Got an average of 94.0% 11 way one-shot learning accuracy \n",
            "\n",
            "Evaluating nearest neighbour on 50 unique 11 way one-shot learning tasks ...\n",
            "NN Accuracy =  90.0\n",
            "---------------------------------------------------------------------------------------------------------------\n",
            "Evaluating model on 50 random 13 way one-shot learning tasks ... \n",
            "\n",
            "Got an average of 80.0% 13 way one-shot learning accuracy \n",
            "\n",
            "Evaluating model on 50 random 13 way one-shot learning tasks ... \n",
            "\n",
            "Got an average of 94.0% 13 way one-shot learning accuracy \n",
            "\n",
            "Evaluating nearest neighbour on 50 unique 13 way one-shot learning tasks ...\n",
            "NN Accuracy =  98.0\n",
            "---------------------------------------------------------------------------------------------------------------\n",
            "Evaluating model on 50 random 15 way one-shot learning tasks ... \n",
            "\n",
            "Got an average of 82.0% 15 way one-shot learning accuracy \n",
            "\n",
            "Evaluating model on 50 random 15 way one-shot learning tasks ... \n",
            "\n",
            "Got an average of 90.0% 15 way one-shot learning accuracy \n",
            "\n",
            "Evaluating nearest neighbour on 50 unique 15 way one-shot learning tasks ...\n",
            "NN Accuracy =  96.0\n",
            "---------------------------------------------------------------------------------------------------------------\n",
            "Evaluating model on 50 random 17 way one-shot learning tasks ... \n",
            "\n",
            "Got an average of 82.0% 17 way one-shot learning accuracy \n",
            "\n",
            "Evaluating model on 50 random 17 way one-shot learning tasks ... \n",
            "\n",
            "Got an average of 96.0% 17 way one-shot learning accuracy \n",
            "\n",
            "Evaluating nearest neighbour on 50 unique 17 way one-shot learning tasks ...\n",
            "NN Accuracy =  92.0\n",
            "---------------------------------------------------------------------------------------------------------------\n",
            "Evaluating model on 50 random 19 way one-shot learning tasks ... \n",
            "\n",
            "Got an average of 76.0% 19 way one-shot learning accuracy \n",
            "\n",
            "Evaluating model on 50 random 19 way one-shot learning tasks ... \n",
            "\n",
            "Got an average of 88.0% 19 way one-shot learning accuracy \n",
            "\n",
            "Evaluating nearest neighbour on 50 unique 19 way one-shot learning tasks ...\n",
            "NN Accuracy =  94.0\n",
            "---------------------------------------------------------------------------------------------------------------\n"
          ]
        }
      ],
      "source": [
        "val_accs, train_accs,nn_accs = [], [], []\n",
        "for N in ways:    \n",
        "    val_accs.append(test_oneshot(model, N, trials, \"val\", verbose=True))\n",
        "    train_accs.append(test_oneshot(model, N, trials, \"train\", verbose=True))\n",
        "    nn_acc = test_nn_accuracy(N, trials)\n",
        "    nn_accs.append(nn_acc)\n",
        "    print (\"NN Accuracy = \", nn_acc)\n",
        "    print(\"---------------------------------------------------------------------------------------------------------------\")"
      ]
    },
    {
      "cell_type": "markdown",
      "metadata": {
        "id": "LrNWS5bq8Wdg"
      },
      "source": [
        "### Save the accuracies on disk"
      ]
    },
    {
      "cell_type": "code",
      "execution_count": 140,
      "metadata": {
        "id": "TZXZOgCD8Wdg"
      },
      "outputs": [],
      "source": [
        "with open(os.path.join(save_path,\"accuracies.pickle\"), \"wb\") as f:\n",
        "    pickle.dump((val_accs,train_accs,nn_accs),f)"
      ]
    },
    {
      "cell_type": "markdown",
      "metadata": {
        "id": "WiqEoEZ-8Wdh"
      },
      "source": [
        "### Load the accuracies from disk"
      ]
    },
    {
      "cell_type": "code",
      "execution_count": 141,
      "metadata": {
        "id": "t53fCnf48Wdh"
      },
      "outputs": [],
      "source": [
        "with open(os.path.join(save_path, \"accuracies.pickle\"), \"rb\") as f:\n",
        "    (val_accs, train_accs, nn_accs) = pickle.load(f)"
      ]
    },
    {
      "cell_type": "markdown",
      "metadata": {
        "id": "3gsQz7ft8Wdh"
      },
      "source": [
        "### Below two functions are used for visualizing test image and support set"
      ]
    },
    {
      "cell_type": "code",
      "execution_count": 142,
      "metadata": {
        "id": "26FkPXMK8Wdh"
      },
      "outputs": [],
      "source": [
        "def concat_images(X):\n",
        "    \"\"\"Concatenates a bunch of images into a big matrix for plotting purposes.\"\"\"\n",
        "    nc, h , w, _ = X.shape\n",
        "    X = X.reshape(nc, h, w)\n",
        "    n = np.ceil(np.sqrt(nc)).astype(\"int8\")\n",
        "    img = np.zeros((n*w,n*h))\n",
        "    x = 0\n",
        "    y = 0\n",
        "    for example in range(nc):\n",
        "        img[x*w:(x+1)*w,y*h:(y+1)*h] = X[example]\n",
        "        y += 1\n",
        "        if y >= n:\n",
        "            y = 0\n",
        "            x += 1\n",
        "    return img"
      ]
    },
    {
      "cell_type": "code",
      "execution_count": 143,
      "metadata": {
        "id": "RssoWSew8Wdh"
      },
      "outputs": [],
      "source": [
        "def plot_oneshot_task(pairs):\n",
        "    fig,(ax1,ax2) = plt.subplots(nrows=1, ncols=2)\n",
        "    ax1.matshow(pairs[0][0].reshape(105,105), cmap='gray')\n",
        "    img = concat_images(pairs[1])\n",
        "    ax1.get_yaxis().set_visible(False)\n",
        "    ax1.get_xaxis().set_visible(False)\n",
        "    ax2.matshow(img,cmap='gray')\n",
        "    plt.xticks([])\n",
        "    plt.yticks([])\n",
        "    plt.show()"
      ]
    },
    {
      "cell_type": "code",
      "execution_count": 144,
      "metadata": {
        "id": "s5LBjFv58Wdh",
        "colab": {
          "base_uri": "https://localhost:8080/",
          "height": 208
        },
        "outputId": "8c20142c-c979-4474-fba2-0cd3395090cd"
      },
      "outputs": [
        {
          "output_type": "stream",
          "name": "stdout",
          "text": [
            "The time to find matches for a random image is 0.0009784698486328125\n"
          ]
        },
        {
          "output_type": "display_data",
          "data": {
            "text/plain": [
              "<Figure size 432x288 with 2 Axes>"
            ],
            "image/png": "[encoded data removed]"
          },
          "metadata": {
            "needs_background": "light"
          }
        }
      ],
      "source": [
        "# Example of concat image visualization\n",
        "one_shot_t_start = time.time()\n",
        "pairs, targets = make_oneshot_task(16,\"train\",\"Sanskrit\")\n",
        "one_shot_t_end = time.time()\n",
        "print('The time to find matches for a random image is {}'.format(one_shot_t_end - one_shot_t_start))\n",
        "plot_oneshot_task(pairs)"
      ]
    },
    {
      "cell_type": "markdown",
      "metadata": {
        "id": "W0hi-d0N8Wdi"
      },
      "source": [
        "### Resuts"
      ]
    },
    {
      "cell_type": "code",
      "execution_count": 146,
      "metadata": {
        "id": "fHmzH1n28Wdi",
        "colab": {
          "base_uri": "https://localhost:8080/",
          "height": 468
        },
        "outputId": "48370c5e-428b-457b-d446-e17deef644f4"
      },
      "outputs": [
        {
          "output_type": "display_data",
          "data": {
            "text/plain": [
              "<Figure size 432x288 with 1 Axes>"
            ],
            "image/png": "[encoded data removed]"
          },
          "metadata": {
            "needs_background": "light"
          }
        },
        {
          "output_type": "display_data",
          "data": {
            "text/plain": [
              "<Figure size 432x288 with 2 Axes>"
            ],
            "image/png": "[encoded data removed]"
          },
          "metadata": {
            "needs_background": "light"
          }
        }
      ],
      "source": [
        "fig,ax = plt.subplots(1)\n",
        "ax.plot(ways, val_accs, \"m\", label=\"Siamese(val set)\")\n",
        "ax.plot(ways, train_accs, \"y\", label=\"Siamese(train set)\")\n",
        "plt.plot(ways, nn_accs, label=\"Nearest neighbour\")\n",
        "\n",
        "ax.plot(ways, 100.0/ways, \"g\", label=\"Random guessing\")\n",
        "plt.xlabel(\"Number of possible classes in one-shot tasks\")\n",
        "plt.ylabel(\"% Accuracy\")\n",
        "plt.title(\"Omiglot One-Shot Learning Performance of a Siamese Network with L1 NN\")\n",
        "box = ax.get_position()\n",
        "ax.set_position([box.x0, box.y0, box.width * 0.8, box.height])\n",
        "ax.legend(loc='center left', bbox_to_anchor=(1, 0.5))\n",
        "inputs,targets = make_oneshot_task(20, \"val\", 'Oriya')\n",
        "plt.show()\n",
        "\n",
        "plot_oneshot_task(inputs)"
      ]
    },
    {
      "cell_type": "code",
      "execution_count": 145,
      "metadata": {
        "id": "xfeO3CMc8Wdi"
      },
      "outputs": [],
      "source": [
        ""
      ]
    }
  ],
  "metadata": {
    "kernelspec": {
      "display_name": "Python 3",
      "language": "python",
      "name": "python3"
    },
    "language_info": {
      "codemirror_mode": {
        "name": "ipython",
        "version": 3
      },
      "file_extension": ".py",
      "mimetype": "text/x-python",
      "name": "python",
      "nbconvert_exporter": "python",
      "pygments_lexer": "ipython3",
      "version": "3.8.3"
    },
    "colab": {
      "name": "HPML_Project_SiameseOpt_kpv222_spa9633 (3).ipynb",
      "provenance": [],
      "collapsed_sections": [
        "Rfh2s7rO8Wdf"
      ]
    },
    "accelerator": "GPU"
  },
  "nbformat": 4,
  "nbformat_minor": 0
}